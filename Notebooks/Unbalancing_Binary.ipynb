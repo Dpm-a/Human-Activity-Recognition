{
 "cells": [
  {
   "cell_type": "code",
   "execution_count": 356,
   "id": "d6e544d8",
   "metadata": {},
   "outputs": [],
   "source": [
    "%matplotlib inline\n",
    "\n",
    "import seaborn as sns\n",
    "import numpy as np\n",
    "from numpy import array \n",
    "\n",
    "import pandas as pd\n",
    "import matplotlib.pyplot as plt\n",
    "from scipy.stats import randint\n",
    "from sklearn.model_selection import GridSearchCV, RandomizedSearchCV\n",
    "from sklearn.metrics import make_scorer\n",
    "from sklearn.metrics import accuracy_score\n",
    "from sklearn.metrics import precision_score, recall_score\n",
    "from sklearn.decomposition import PCA\n",
    "\n",
    "from collections import Counter\n",
    "from collections import defaultdict\n",
    "\n",
    "from sklearn import tree\n",
    "import scikitplot as skplt\n",
    "\n",
    "from sklearn.model_selection import train_test_split, cross_val_score \n",
    "\n",
    "from sklearn.metrics import accuracy_score, f1_score, classification_report\n",
    "from sklearn.metrics import roc_curve, auc, roc_auc_score\n",
    "from imblearn.under_sampling import RandomUnderSampler\n",
    "from imblearn.under_sampling import CondensedNearestNeighbour\n",
    "\n",
    "from sklearn.tree import DecisionTreeClassifier\n",
    "from sklearn.neighbors import KNeighborsClassifier\n",
    "from sklearn import svm, datasets\n",
    "\n",
    "import scikitplot as skplt\n",
    "from sklearn.model_selection import cross_val_predict\n",
    "from sklearn.manifold import TSNE\n",
    "\n",
    "from imblearn.over_sampling import RandomOverSampler\n",
    "from imblearn.over_sampling import SMOTE"
   ]
  },
  {
   "cell_type": "markdown",
   "id": "92eef578",
   "metadata": {},
   "source": [
    "### DF_TRAIN"
   ]
  },
  {
   "cell_type": "code",
   "execution_count": 357,
   "id": "9d009f3a",
   "metadata": {},
   "outputs": [
    {
     "data": {
      "text/html": [
       "<div>\n",
       "<style scoped>\n",
       "    .dataframe tbody tr th:only-of-type {\n",
       "        vertical-align: middle;\n",
       "    }\n",
       "\n",
       "    .dataframe tbody tr th {\n",
       "        vertical-align: top;\n",
       "    }\n",
       "\n",
       "    .dataframe thead th {\n",
       "        text-align: right;\n",
       "    }\n",
       "</style>\n",
       "<table border=\"1\" class=\"dataframe\">\n",
       "  <thead>\n",
       "    <tr style=\"text-align: right;\">\n",
       "      <th></th>\n",
       "      <th>tBodyAcc-entropy()-X</th>\n",
       "      <th>tBodyAcc-correlation()-X,Y</th>\n",
       "      <th>tBodyAcc-correlation()-Y,Z</th>\n",
       "      <th>tGravityAcc-mean()-Y</th>\n",
       "      <th>tGravityAcc-max()-X</th>\n",
       "      <th>tGravityAcc-max()-Z</th>\n",
       "      <th>tGravityAcc-min()-X</th>\n",
       "      <th>tGravityAcc-min()-Y</th>\n",
       "      <th>tGravityAcc-energy()-Y</th>\n",
       "      <th>tGravityAcc-arCoeff()-Y,1</th>\n",
       "      <th>...</th>\n",
       "      <th>fBodyAcc-max()-X</th>\n",
       "      <th>fBodyAcc-max()-Y</th>\n",
       "      <th>fBodyAccJerk-max()-Y</th>\n",
       "      <th>fBodyGyro-maxInds-X</th>\n",
       "      <th>fBodyGyro-meanFreq()-X</th>\n",
       "      <th>fBodyAccMag-mad()</th>\n",
       "      <th>fBodyAccMag-energy()</th>\n",
       "      <th>fBodyBodyGyroJerkMag-std()</th>\n",
       "      <th>angle(Y,gravityMean)</th>\n",
       "      <th>label</th>\n",
       "    </tr>\n",
       "  </thead>\n",
       "  <tbody>\n",
       "    <tr>\n",
       "      <th>0</th>\n",
       "      <td>-0.407747</td>\n",
       "      <td>0.376314</td>\n",
       "      <td>0.660790</td>\n",
       "      <td>-0.140840</td>\n",
       "      <td>0.892055</td>\n",
       "      <td>0.124660</td>\n",
       "      <td>0.977436</td>\n",
       "      <td>-0.123213</td>\n",
       "      <td>-0.970905</td>\n",
       "      <td>-0.745449</td>\n",
       "      <td>...</td>\n",
       "      <td>-0.993756</td>\n",
       "      <td>-0.983163</td>\n",
       "      <td>-0.991975</td>\n",
       "      <td>-1.0</td>\n",
       "      <td>-0.257549</td>\n",
       "      <td>-0.948870</td>\n",
       "      <td>-0.998285</td>\n",
       "      <td>-0.990697</td>\n",
       "      <td>0.179941</td>\n",
       "      <td>5</td>\n",
       "    </tr>\n",
       "    <tr>\n",
       "      <th>1</th>\n",
       "      <td>-0.714892</td>\n",
       "      <td>-0.013429</td>\n",
       "      <td>0.579382</td>\n",
       "      <td>-0.141551</td>\n",
       "      <td>0.892060</td>\n",
       "      <td>0.122586</td>\n",
       "      <td>0.984520</td>\n",
       "      <td>-0.114893</td>\n",
       "      <td>-0.970583</td>\n",
       "      <td>-0.196359</td>\n",
       "      <td>...</td>\n",
       "      <td>-0.999372</td>\n",
       "      <td>-0.973770</td>\n",
       "      <td>-0.984923</td>\n",
       "      <td>-1.0</td>\n",
       "      <td>-0.048167</td>\n",
       "      <td>-0.975777</td>\n",
       "      <td>-0.999472</td>\n",
       "      <td>-0.996399</td>\n",
       "      <td>0.180289</td>\n",
       "      <td>5</td>\n",
       "    </tr>\n",
       "    <tr>\n",
       "      <th>2</th>\n",
       "      <td>-0.592235</td>\n",
       "      <td>-0.124698</td>\n",
       "      <td>0.608900</td>\n",
       "      <td>-0.142010</td>\n",
       "      <td>0.892401</td>\n",
       "      <td>0.094566</td>\n",
       "      <td>0.986770</td>\n",
       "      <td>-0.114893</td>\n",
       "      <td>-0.970368</td>\n",
       "      <td>-0.329023</td>\n",
       "      <td>...</td>\n",
       "      <td>-0.998158</td>\n",
       "      <td>-0.963072</td>\n",
       "      <td>-0.985351</td>\n",
       "      <td>-1.0</td>\n",
       "      <td>-0.216685</td>\n",
       "      <td>-0.985594</td>\n",
       "      <td>-0.999807</td>\n",
       "      <td>-0.995127</td>\n",
       "      <td>0.180637</td>\n",
       "      <td>5</td>\n",
       "    </tr>\n",
       "    <tr>\n",
       "      <th>3</th>\n",
       "      <td>-0.627446</td>\n",
       "      <td>-0.305693</td>\n",
       "      <td>0.507459</td>\n",
       "      <td>-0.143976</td>\n",
       "      <td>0.893817</td>\n",
       "      <td>0.093425</td>\n",
       "      <td>0.986821</td>\n",
       "      <td>-0.121336</td>\n",
       "      <td>-0.969400</td>\n",
       "      <td>-0.295036</td>\n",
       "      <td>...</td>\n",
       "      <td>-0.997404</td>\n",
       "      <td>-0.987275</td>\n",
       "      <td>-0.987874</td>\n",
       "      <td>-1.0</td>\n",
       "      <td>0.216862</td>\n",
       "      <td>-0.983524</td>\n",
       "      <td>-0.999770</td>\n",
       "      <td>-0.995237</td>\n",
       "      <td>0.181935</td>\n",
       "      <td>5</td>\n",
       "    </tr>\n",
       "    <tr>\n",
       "      <th>4</th>\n",
       "      <td>-0.786553</td>\n",
       "      <td>-0.155804</td>\n",
       "      <td>0.599213</td>\n",
       "      <td>-0.148750</td>\n",
       "      <td>0.893817</td>\n",
       "      <td>0.091682</td>\n",
       "      <td>0.987434</td>\n",
       "      <td>-0.121834</td>\n",
       "      <td>-0.967051</td>\n",
       "      <td>-0.166693</td>\n",
       "      <td>...</td>\n",
       "      <td>-0.999277</td>\n",
       "      <td>-0.980848</td>\n",
       "      <td>-0.990373</td>\n",
       "      <td>-1.0</td>\n",
       "      <td>-0.153343</td>\n",
       "      <td>-0.992324</td>\n",
       "      <td>-0.999873</td>\n",
       "      <td>-0.995465</td>\n",
       "      <td>0.185151</td>\n",
       "      <td>5</td>\n",
       "    </tr>\n",
       "  </tbody>\n",
       "</table>\n",
       "<p>5 rows × 29 columns</p>\n",
       "</div>"
      ],
      "text/plain": [
       "   tBodyAcc-entropy()-X  tBodyAcc-correlation()-X,Y  \\\n",
       "0             -0.407747                    0.376314   \n",
       "1             -0.714892                   -0.013429   \n",
       "2             -0.592235                   -0.124698   \n",
       "3             -0.627446                   -0.305693   \n",
       "4             -0.786553                   -0.155804   \n",
       "\n",
       "   tBodyAcc-correlation()-Y,Z  tGravityAcc-mean()-Y  tGravityAcc-max()-X  \\\n",
       "0                    0.660790             -0.140840             0.892055   \n",
       "1                    0.579382             -0.141551             0.892060   \n",
       "2                    0.608900             -0.142010             0.892401   \n",
       "3                    0.507459             -0.143976             0.893817   \n",
       "4                    0.599213             -0.148750             0.893817   \n",
       "\n",
       "   tGravityAcc-max()-Z  tGravityAcc-min()-X  tGravityAcc-min()-Y  \\\n",
       "0             0.124660             0.977436            -0.123213   \n",
       "1             0.122586             0.984520            -0.114893   \n",
       "2             0.094566             0.986770            -0.114893   \n",
       "3             0.093425             0.986821            -0.121336   \n",
       "4             0.091682             0.987434            -0.121834   \n",
       "\n",
       "   tGravityAcc-energy()-Y  tGravityAcc-arCoeff()-Y,1  ...  fBodyAcc-max()-X  \\\n",
       "0               -0.970905                  -0.745449  ...         -0.993756   \n",
       "1               -0.970583                  -0.196359  ...         -0.999372   \n",
       "2               -0.970368                  -0.329023  ...         -0.998158   \n",
       "3               -0.969400                  -0.295036  ...         -0.997404   \n",
       "4               -0.967051                  -0.166693  ...         -0.999277   \n",
       "\n",
       "   fBodyAcc-max()-Y  fBodyAccJerk-max()-Y  fBodyGyro-maxInds-X  \\\n",
       "0         -0.983163             -0.991975                 -1.0   \n",
       "1         -0.973770             -0.984923                 -1.0   \n",
       "2         -0.963072             -0.985351                 -1.0   \n",
       "3         -0.987275             -0.987874                 -1.0   \n",
       "4         -0.980848             -0.990373                 -1.0   \n",
       "\n",
       "   fBodyGyro-meanFreq()-X  fBodyAccMag-mad()  fBodyAccMag-energy()  \\\n",
       "0               -0.257549          -0.948870             -0.998285   \n",
       "1               -0.048167          -0.975777             -0.999472   \n",
       "2               -0.216685          -0.985594             -0.999807   \n",
       "3                0.216862          -0.983524             -0.999770   \n",
       "4               -0.153343          -0.992324             -0.999873   \n",
       "\n",
       "   fBodyBodyGyroJerkMag-std()  angle(Y,gravityMean)  label  \n",
       "0                   -0.990697              0.179941      5  \n",
       "1                   -0.996399              0.180289      5  \n",
       "2                   -0.995127              0.180637      5  \n",
       "3                   -0.995237              0.181935      5  \n",
       "4                   -0.995465              0.185151      5  \n",
       "\n",
       "[5 rows x 29 columns]"
      ]
     },
     "execution_count": 357,
     "metadata": {},
     "output_type": "execute_result"
    }
   ],
   "source": [
    "df = pd.read_csv(\"df_RFE_train.csv\")\n",
    "df = df.drop(columns = [\"Unnamed: 0\"])\n",
    "df = df.drop(columns = [\"fBodyAccJerk-bandsEnergy()-1,16\"])\n",
    "df.head()"
   ]
  },
  {
   "cell_type": "code",
   "execution_count": 358,
   "id": "94d73a88",
   "metadata": {},
   "outputs": [],
   "source": [
    "df_binary = df.copy()"
   ]
  },
  {
   "cell_type": "code",
   "execution_count": 359,
   "id": "eeea9fd1",
   "metadata": {},
   "outputs": [],
   "source": [
    "df_binary[\"label\"] = df_binary[\"label\"].map({1:1,\n",
    "                                 2:0,\n",
    "                                 3:0,\n",
    "                                 4:0,\n",
    "                                 5:0,\n",
    "                                 6:0})"
   ]
  },
  {
   "cell_type": "code",
   "execution_count": 360,
   "id": "91bee6ac",
   "metadata": {},
   "outputs": [
    {
     "data": {
      "text/plain": [
       "0    6126\n",
       "1    1226\n",
       "Name: label, dtype: int64"
      ]
     },
     "execution_count": 360,
     "metadata": {},
     "output_type": "execute_result"
    }
   ],
   "source": [
    "df_binary[\"label\"].value_counts()"
   ]
  },
  {
   "cell_type": "markdown",
   "id": "b8d9cec6",
   "metadata": {},
   "source": [
    "### DF_TEST\n"
   ]
  },
  {
   "cell_type": "code",
   "execution_count": 361,
   "id": "bfa05a83",
   "metadata": {},
   "outputs": [
    {
     "data": {
      "text/html": [
       "<div>\n",
       "<style scoped>\n",
       "    .dataframe tbody tr th:only-of-type {\n",
       "        vertical-align: middle;\n",
       "    }\n",
       "\n",
       "    .dataframe tbody tr th {\n",
       "        vertical-align: top;\n",
       "    }\n",
       "\n",
       "    .dataframe thead th {\n",
       "        text-align: right;\n",
       "    }\n",
       "</style>\n",
       "<table border=\"1\" class=\"dataframe\">\n",
       "  <thead>\n",
       "    <tr style=\"text-align: right;\">\n",
       "      <th></th>\n",
       "      <th>tBodyAcc-entropy()-X</th>\n",
       "      <th>tBodyAcc-correlation()-X,Y</th>\n",
       "      <th>tBodyAcc-correlation()-Y,Z</th>\n",
       "      <th>tGravityAcc-mean()-Y</th>\n",
       "      <th>tGravityAcc-max()-X</th>\n",
       "      <th>tGravityAcc-max()-Z</th>\n",
       "      <th>tGravityAcc-min()-X</th>\n",
       "      <th>tGravityAcc-min()-Y</th>\n",
       "      <th>tGravityAcc-energy()-Y</th>\n",
       "      <th>tGravityAcc-arCoeff()-Y,1</th>\n",
       "      <th>...</th>\n",
       "      <th>fBodyAcc-max()-X</th>\n",
       "      <th>fBodyAcc-max()-Y</th>\n",
       "      <th>fBodyAccJerk-max()-Y</th>\n",
       "      <th>fBodyGyro-maxInds-X</th>\n",
       "      <th>fBodyGyro-meanFreq()-X</th>\n",
       "      <th>fBodyAccMag-mad()</th>\n",
       "      <th>fBodyAccMag-energy()</th>\n",
       "      <th>fBodyBodyGyroJerkMag-std()</th>\n",
       "      <th>angle(Y,gravityMean)</th>\n",
       "      <th>label</th>\n",
       "    </tr>\n",
       "  </thead>\n",
       "  <tbody>\n",
       "    <tr>\n",
       "      <th>0</th>\n",
       "      <td>-0.168084</td>\n",
       "      <td>0.076989</td>\n",
       "      <td>-0.709003</td>\n",
       "      <td>-0.282719</td>\n",
       "      <td>0.906083</td>\n",
       "      <td>0.152895</td>\n",
       "      <td>0.944461</td>\n",
       "      <td>-0.262160</td>\n",
       "      <td>-0.864621</td>\n",
       "      <td>-0.795468</td>\n",
       "      <td>...</td>\n",
       "      <td>-0.968424</td>\n",
       "      <td>-0.940137</td>\n",
       "      <td>-0.958325</td>\n",
       "      <td>-1.0</td>\n",
       "      <td>0.184035</td>\n",
       "      <td>-0.726707</td>\n",
       "      <td>-0.953984</td>\n",
       "      <td>-0.907308</td>\n",
       "      <td>0.276801</td>\n",
       "      <td>5</td>\n",
       "    </tr>\n",
       "    <tr>\n",
       "      <th>1</th>\n",
       "      <td>-0.302437</td>\n",
       "      <td>-0.104983</td>\n",
       "      <td>0.399177</td>\n",
       "      <td>-0.289215</td>\n",
       "      <td>0.856176</td>\n",
       "      <td>0.152895</td>\n",
       "      <td>0.944461</td>\n",
       "      <td>-0.262160</td>\n",
       "      <td>-0.858163</td>\n",
       "      <td>-0.745687</td>\n",
       "      <td>...</td>\n",
       "      <td>-0.993051</td>\n",
       "      <td>-0.974357</td>\n",
       "      <td>-0.987087</td>\n",
       "      <td>-1.0</td>\n",
       "      <td>0.018109</td>\n",
       "      <td>-0.960680</td>\n",
       "      <td>-0.998476</td>\n",
       "      <td>-0.938212</td>\n",
       "      <td>0.281343</td>\n",
       "      <td>5</td>\n",
       "    </tr>\n",
       "    <tr>\n",
       "      <th>2</th>\n",
       "      <td>-0.617916</td>\n",
       "      <td>0.305653</td>\n",
       "      <td>0.279786</td>\n",
       "      <td>-0.287513</td>\n",
       "      <td>0.856269</td>\n",
       "      <td>0.139454</td>\n",
       "      <td>0.948704</td>\n",
       "      <td>-0.261661</td>\n",
       "      <td>-0.859947</td>\n",
       "      <td>-0.231640</td>\n",
       "      <td>...</td>\n",
       "      <td>-0.995082</td>\n",
       "      <td>-0.983773</td>\n",
       "      <td>-0.975581</td>\n",
       "      <td>-1.0</td>\n",
       "      <td>-0.479145</td>\n",
       "      <td>-0.977176</td>\n",
       "      <td>-0.999570</td>\n",
       "      <td>-0.983273</td>\n",
       "      <td>0.280083</td>\n",
       "      <td>5</td>\n",
       "    </tr>\n",
       "    <tr>\n",
       "      <th>3</th>\n",
       "      <td>-0.749578</td>\n",
       "      <td>-0.063792</td>\n",
       "      <td>0.544916</td>\n",
       "      <td>-0.293396</td>\n",
       "      <td>0.856269</td>\n",
       "      <td>0.136124</td>\n",
       "      <td>0.947309</td>\n",
       "      <td>-0.272916</td>\n",
       "      <td>-0.853713</td>\n",
       "      <td>-0.233036</td>\n",
       "      <td>...</td>\n",
       "      <td>-0.997495</td>\n",
       "      <td>-0.987887</td>\n",
       "      <td>-0.979580</td>\n",
       "      <td>-1.0</td>\n",
       "      <td>-0.496954</td>\n",
       "      <td>-0.976796</td>\n",
       "      <td>-0.999504</td>\n",
       "      <td>-0.985843</td>\n",
       "      <td>0.284114</td>\n",
       "      <td>5</td>\n",
       "    </tr>\n",
       "    <tr>\n",
       "      <th>4</th>\n",
       "      <td>-0.590576</td>\n",
       "      <td>0.235151</td>\n",
       "      <td>0.457718</td>\n",
       "      <td>-0.302961</td>\n",
       "      <td>0.853942</td>\n",
       "      <td>0.133541</td>\n",
       "      <td>0.946221</td>\n",
       "      <td>-0.279190</td>\n",
       "      <td>-0.843378</td>\n",
       "      <td>-0.493331</td>\n",
       "      <td>...</td>\n",
       "      <td>-0.995932</td>\n",
       "      <td>-0.972039</td>\n",
       "      <td>-0.975105</td>\n",
       "      <td>-1.0</td>\n",
       "      <td>-0.427502</td>\n",
       "      <td>-0.975706</td>\n",
       "      <td>-0.999500</td>\n",
       "      <td>-0.990572</td>\n",
       "      <td>0.290722</td>\n",
       "      <td>5</td>\n",
       "    </tr>\n",
       "  </tbody>\n",
       "</table>\n",
       "<p>5 rows × 29 columns</p>\n",
       "</div>"
      ],
      "text/plain": [
       "   tBodyAcc-entropy()-X  tBodyAcc-correlation()-X,Y  \\\n",
       "0             -0.168084                    0.076989   \n",
       "1             -0.302437                   -0.104983   \n",
       "2             -0.617916                    0.305653   \n",
       "3             -0.749578                   -0.063792   \n",
       "4             -0.590576                    0.235151   \n",
       "\n",
       "   tBodyAcc-correlation()-Y,Z  tGravityAcc-mean()-Y  tGravityAcc-max()-X  \\\n",
       "0                   -0.709003             -0.282719             0.906083   \n",
       "1                    0.399177             -0.289215             0.856176   \n",
       "2                    0.279786             -0.287513             0.856269   \n",
       "3                    0.544916             -0.293396             0.856269   \n",
       "4                    0.457718             -0.302961             0.853942   \n",
       "\n",
       "   tGravityAcc-max()-Z  tGravityAcc-min()-X  tGravityAcc-min()-Y  \\\n",
       "0             0.152895             0.944461            -0.262160   \n",
       "1             0.152895             0.944461            -0.262160   \n",
       "2             0.139454             0.948704            -0.261661   \n",
       "3             0.136124             0.947309            -0.272916   \n",
       "4             0.133541             0.946221            -0.279190   \n",
       "\n",
       "   tGravityAcc-energy()-Y  tGravityAcc-arCoeff()-Y,1  ...  fBodyAcc-max()-X  \\\n",
       "0               -0.864621                  -0.795468  ...         -0.968424   \n",
       "1               -0.858163                  -0.745687  ...         -0.993051   \n",
       "2               -0.859947                  -0.231640  ...         -0.995082   \n",
       "3               -0.853713                  -0.233036  ...         -0.997495   \n",
       "4               -0.843378                  -0.493331  ...         -0.995932   \n",
       "\n",
       "   fBodyAcc-max()-Y  fBodyAccJerk-max()-Y  fBodyGyro-maxInds-X  \\\n",
       "0         -0.940137             -0.958325                 -1.0   \n",
       "1         -0.974357             -0.987087                 -1.0   \n",
       "2         -0.983773             -0.975581                 -1.0   \n",
       "3         -0.987887             -0.979580                 -1.0   \n",
       "4         -0.972039             -0.975105                 -1.0   \n",
       "\n",
       "   fBodyGyro-meanFreq()-X  fBodyAccMag-mad()  fBodyAccMag-energy()  \\\n",
       "0                0.184035          -0.726707             -0.953984   \n",
       "1                0.018109          -0.960680             -0.998476   \n",
       "2               -0.479145          -0.977176             -0.999570   \n",
       "3               -0.496954          -0.976796             -0.999504   \n",
       "4               -0.427502          -0.975706             -0.999500   \n",
       "\n",
       "   fBodyBodyGyroJerkMag-std()  angle(Y,gravityMean)  label  \n",
       "0                   -0.907308              0.276801      5  \n",
       "1                   -0.938212              0.281343      5  \n",
       "2                   -0.983273              0.280083      5  \n",
       "3                   -0.985843              0.284114      5  \n",
       "4                   -0.990572              0.290722      5  \n",
       "\n",
       "[5 rows x 29 columns]"
      ]
     },
     "execution_count": 361,
     "metadata": {},
     "output_type": "execute_result"
    }
   ],
   "source": [
    "df_test= pd.read_csv(\"df_RFE_test.csv\")\n",
    "df_test = df_test.drop(columns = [\"Unnamed: 0\"])\n",
    "df_test = df_test.drop(columns = [\"fBodyAccJerk-bandsEnergy()-1,16\"])\n",
    "df_test.head()"
   ]
  },
  {
   "cell_type": "code",
   "execution_count": 30,
   "id": "834637ea",
   "metadata": {},
   "outputs": [
    {
     "data": {
      "text/plain": [
       "['tGravityAcc-min()-Y', 'tGravityAcc-arCoeff()-Z,4', 'fBodyAcc-max()-X']"
      ]
     },
     "execution_count": 30,
     "metadata": {},
     "output_type": "execute_result"
    }
   ],
   "source": [
    "l = [('fBodyAccJerk-sma()', 0.5033990187488347),\n",
    " ('fBodyAcc-meanFreq()-Z', 0.04137779664217798),\n",
    " ('fBodyBodyGyroMag-maxInds', 0.040409144444020814),\n",
    " ('tGravityAcc-min()-Y', 0.02785290956485616),\n",
    " ('tGravityAcc-arCoeff()-Z,4', 0.026412991384708727),\n",
    " ('tGravityAcc-std()-X', 0.02499998093333352),\n",
    " ('tGravityAcc-max()-Y', 0.021013830810512498),\n",
    " ('fBodyAcc-max()-X', 0.02024876702099725),\n",
    " ('tBodyAccMag-std()', 0.015630894133601102),\n",
    " ('fBodyGyro-bandsEnergy()-1,8', 0.014566322848836969),\n",
    " ('fBodyAcc-mad()-Z', 0.012466679426372907)]\n",
    "\n",
    "l2 = []\n",
    "l3 =[]\n",
    "for el in l:\n",
    "    l2.append(list(el))\n",
    "\n",
    "for i in range(len(l2)):\n",
    "    if l2[i][0] in df_test.columns:\n",
    "        l3.append(l2[i][0])\n",
    "\n",
    "\n",
    "        "
   ]
  },
  {
   "cell_type": "code",
   "execution_count": 362,
   "id": "d7dd6094",
   "metadata": {},
   "outputs": [],
   "source": [
    "df_test_binary = df_test.copy()"
   ]
  },
  {
   "cell_type": "code",
   "execution_count": 363,
   "id": "8da1cd80",
   "metadata": {},
   "outputs": [],
   "source": [
    "df_test_binary[\"label\"] = df_test_binary[\"label\"].map({1:1,\n",
    "                                 2:0,\n",
    "                                 3:0,\n",
    "                                 4:0,\n",
    "                                 5:0,\n",
    "                                 6:0})"
   ]
  },
  {
   "cell_type": "code",
   "execution_count": 364,
   "id": "70186205",
   "metadata": {},
   "outputs": [
    {
     "data": {
      "text/plain": [
       "0    2451\n",
       "1     496\n",
       "Name: label, dtype: int64"
      ]
     },
     "execution_count": 364,
     "metadata": {},
     "output_type": "execute_result"
    }
   ],
   "source": [
    "df_test_binary[\"label\"].value_counts()"
   ]
  },
  {
   "cell_type": "code",
   "execution_count": 365,
   "id": "e3ba7ed2",
   "metadata": {},
   "outputs": [],
   "source": [
    "attributes = [col for col in df_test.columns if col != 'label']\n",
    "\n",
    "X_train = df_binary[attributes].values\n",
    "y_train = np.array(df_binary['label'])\n",
    "X_test = df_test_binary[attributes].values\n",
    "y_test = np.array(df_test_binary['label'])"
   ]
  },
  {
   "cell_type": "code",
   "execution_count": 366,
   "id": "ff0b19de",
   "metadata": {},
   "outputs": [
    {
     "name": "stderr",
     "output_type": "stream",
     "text": [
      "C:\\Users\\daddu\\anaconda3\\lib\\site-packages\\seaborn\\_decorators.py:36: FutureWarning: Pass the following variables as keyword args: x, y. From version 0.12, the only valid positional argument will be `data`, and passing other arguments without an explicit keyword will result in an error or misinterpretation.\n",
      "  warnings.warn(\n"
     ]
    },
    {
     "data": {
      "text/plain": [
       "Text(0.5, 0, 'Classes')"
      ]
     },
     "execution_count": 366,
     "metadata": {},
     "output_type": "execute_result"
    },
    {
     "data": {
      "image/png": "[encoded data removed]",
      "text/plain": [
       "<Figure size 432x288 with 1 Axes>"
      ]
     },
     "metadata": {
      "needs_background": "light"
     },
     "output_type": "display_data"
    }
   ],
   "source": [
    "label = df_binary.label.value_counts()\n",
    "plt.figure()\n",
    "sns.barplot(label.index, label.values, alpha=0.8)\n",
    "plt.title('Lable Class Initial distribution',fontsize=14)\n",
    "plt.ylabel('Number of Occurrences', fontsize=12)\n",
    "plt.xlabel('Classes', fontsize=12)"
   ]
  },
  {
   "cell_type": "code",
   "execution_count": 48,
   "id": "2d9df0c9",
   "metadata": {},
   "outputs": [],
   "source": [
    "from imblearn.datasets import make_imbalance"
   ]
  },
  {
   "cell_type": "code",
   "execution_count": 49,
   "id": "df7aaf83",
   "metadata": {},
   "outputs": [
    {
     "name": "stdout",
     "output_type": "stream",
     "text": [
      "Distribution before imbalancing: Counter({0: 4067, 1: 3285})\n",
      "Distribution after imbalancing: Counter({0: 4067, 1: 200})\n"
     ]
    }
   ],
   "source": [
    "\n",
    "print(f'Distribution before imbalancing: {Counter(y_train)}')\n",
    "\n",
    "X_res, y_res = make_imbalance(X_train, y_train,\n",
    "                              sampling_strategy={0:4067,1:200},\n",
    "                              random_state=42)\n",
    "print(f'Distribution after imbalancing: {Counter(y_res)}')\n"
   ]
  },
  {
   "cell_type": "code",
   "execution_count": 50,
   "id": "011309ca",
   "metadata": {},
   "outputs": [
    {
     "data": {
      "text/plain": [
       "(4267, 28)"
      ]
     },
     "execution_count": 50,
     "metadata": {},
     "output_type": "execute_result"
    }
   ],
   "source": [
    "X_res.shape"
   ]
  },
  {
   "cell_type": "code",
   "execution_count": 51,
   "id": "5b9076da",
   "metadata": {},
   "outputs": [
    {
     "name": "stderr",
     "output_type": "stream",
     "text": [
      "C:\\Users\\daddu\\anaconda3\\lib\\site-packages\\seaborn\\_decorators.py:36: FutureWarning: Pass the following variables as keyword args: x, y. From version 0.12, the only valid positional argument will be `data`, and passing other arguments without an explicit keyword will result in an error or misinterpretation.\n",
      "  warnings.warn(\n"
     ]
    },
    {
     "data": {
      "text/plain": [
       "Text(0.5, 0, 'Classes')"
      ]
     },
     "execution_count": 51,
     "metadata": {},
     "output_type": "execute_result"
    },
    {
     "data": {
      "image/png": "[encoded data removed]",
      "text/plain": [
       "<Figure size 432x288 with 1 Axes>"
      ]
     },
     "metadata": {
      "needs_background": "light"
     },
     "output_type": "display_data"
    }
   ],
   "source": [
    "imbal_dict = {0:4067,1:200}\n",
    "imbal_dict_X = list(imbal_dict.keys())\n",
    "imbal_dict_y = list(imbal_dict.values())\n",
    "\n",
    "sns.barplot(imbal_dict_X , imbal_dict_y, alpha=0.8)\n",
    "plt.title('Lable Class Unbalanced distribution',fontsize=14)\n",
    "plt.ylabel('Number of Occurrences', fontsize=12)\n",
    "plt.xlabel('Classes', fontsize=12)"
   ]
  },
  {
   "cell_type": "markdown",
   "id": "ea7ed880",
   "metadata": {},
   "source": [
    "# \n",
    "\n",
    "# Decision Tree Unbalanced  - TEST_SET "
   ]
  },
  {
   "cell_type": "code",
   "execution_count": 385,
   "id": "1acab61e",
   "metadata": {},
   "outputs": [],
   "source": [
    "dt_max_depth = [2,3,5,6,7,10,12, None]\n",
    "dt_min_samples_split = randint(2, 51)\n",
    "min_samples_leaf = randint(1, 51)\n",
    "criterion = [\"entropy\", \"gini\"]\n",
    "splitter = [\"best\", \"random\"]\n",
    "max_features = [None, 2, 3, 4, 5]\n",
    "\n",
    "dt_param_grid = {\n",
    "    \"max_depth\": dt_max_depth,\n",
    "    \"min_samples_split\": dt_min_samples_split,\n",
    "    \"min_samples_leaf\": min_samples_leaf,\n",
    "    \"criterion\": criterion,\n",
    "    \"splitter\": splitter,\n",
    "    \"max_features\": max_features\n",
    "            }\n",
    "\n",
    "dt_grid = RandomizedSearchCV(tree.DecisionTreeClassifier(), param_distributions=dt_param_grid,\n",
    "                            scoring=make_scorer(accuracy_score))"
   ]
  },
  {
   "cell_type": "code",
   "execution_count": 386,
   "id": "3d7f45a7",
   "metadata": {},
   "outputs": [
    {
     "data": {
      "text/plain": [
       "RandomizedSearchCV(estimator=DecisionTreeClassifier(),\n",
       "                   param_distributions={'criterion': ['entropy', 'gini'],\n",
       "                                        'max_depth': [2, 3, 5, 6, 7, 10, 12,\n",
       "                                                      None],\n",
       "                                        'max_features': [None, 2, 3, 4, 5],\n",
       "                                        'min_samples_leaf': <scipy.stats._distn_infrastructure.rv_frozen object at 0x000002B1EF30AAC0>,\n",
       "                                        'min_samples_split': <scipy.stats._distn_infrastructure.rv_frozen object at 0x000002B1EF368D00>,\n",
       "                                        'splitter': ['best', 'random']},\n",
       "                   scoring=make_scorer(accuracy_score))"
      ]
     },
     "execution_count": 386,
     "metadata": {},
     "output_type": "execute_result"
    }
   ],
   "source": [
    "dt_grid.fit(X_train, y_train)"
   ]
  },
  {
   "cell_type": "code",
   "execution_count": 387,
   "id": "b3f42b8d",
   "metadata": {},
   "outputs": [
    {
     "name": "stdout",
     "output_type": "stream",
     "text": [
      "{'criterion': 'entropy', 'max_depth': 6, 'max_features': 5, 'min_samples_leaf': 34, 'min_samples_split': 9, 'splitter': 'best'}\n"
     ]
    }
   ],
   "source": [
    "print(dt_grid.best_params_)"
   ]
  },
  {
   "cell_type": "code",
   "execution_count": 395,
   "id": "5f44d2c4",
   "metadata": {},
   "outputs": [
    {
     "name": "stdout",
     "output_type": "stream",
     "text": [
      "Accuracy 0.9440108585001696\n",
      "F1-score [0.96648385 0.83007209]\n",
      "              precision    recall  f1-score   support\n",
      "\n",
      "           0       0.96      0.97      0.97      2451\n",
      "           1       0.85      0.81      0.83       496\n",
      "\n",
      "    accuracy                           0.94      2947\n",
      "   macro avg       0.91      0.89      0.90      2947\n",
      "weighted avg       0.94      0.94      0.94      2947\n",
      "\n"
     ]
    }
   ],
   "source": [
    "decision_tree = tree.DecisionTreeClassifier(**dt_grid.best_params_).fit(X_train, y_train)\n",
    "\n",
    "y_pred = decision_tree.predict(X_test)\n",
    "\n",
    "print('Accuracy %s' % accuracy_score(y_test, y_pred))\n",
    "print('F1-score %s' % f1_score(y_test, y_pred, average=None))\n",
    "print(classification_report(y_test, y_pred))"
   ]
  },
  {
   "cell_type": "markdown",
   "id": "bf2cc8ac",
   "metadata": {},
   "source": [
    "# \n",
    "\n",
    "# KNN Unbalanced - TEST_SET"
   ]
  },
  {
   "cell_type": "code",
   "execution_count": 79,
   "id": "d6fba905",
   "metadata": {},
   "outputs": [
    {
     "data": {
      "text/plain": [
       "GridSearchCV(estimator=KNeighborsClassifier(),\n",
       "             param_grid={'metric': ['euclidean', 'manhattan'],\n",
       "                         'n_neighbors': range(1, 11)},\n",
       "             scoring='accuracy')"
      ]
     },
     "execution_count": 79,
     "metadata": {},
     "output_type": "execute_result"
    }
   ],
   "source": [
    "k_range = range(1,11)\n",
    "knn_metrics = ['euclidean', 'manhattan']\n",
    "\n",
    "knn_param_grid = {\n",
    "    'n_neighbors': k_range,\n",
    "    'metric': knn_metrics\n",
    "            }\n",
    "\n",
    "knn_grid = GridSearchCV(KNeighborsClassifier(), knn_param_grid, scoring='accuracy')\n",
    "knn_grid.fit(X_res, y_res)"
   ]
  },
  {
   "cell_type": "code",
   "execution_count": 80,
   "id": "8398d893",
   "metadata": {},
   "outputs": [
    {
     "name": "stdout",
     "output_type": "stream",
     "text": [
      "Accuracy: 1.0\n",
      "Parameters: {'metric': 'euclidean', 'n_neighbors': 1}\n"
     ]
    }
   ],
   "source": [
    "print('Accuracy: ' + str(knn_grid.best_score_))\n",
    "print('Parameters: ' + str(knn_grid.best_params_))"
   ]
  },
  {
   "cell_type": "code",
   "execution_count": 384,
   "id": "31ac9907",
   "metadata": {},
   "outputs": [
    {
     "name": "stdout",
     "output_type": "stream",
     "text": [
      "              precision    recall  f1-score   support\n",
      "\n",
      "           0       0.99      0.97      0.98      2451\n",
      "           1       0.88      0.94      0.90       496\n",
      "\n",
      "    accuracy                           0.97      2947\n",
      "   macro avg       0.93      0.95      0.94      2947\n",
      "weighted avg       0.97      0.97      0.97      2947\n",
      "\n"
     ]
    }
   ],
   "source": [
    "knn = KNeighborsClassifier(**knn_grid.best_params_).fit(X_train,y_train)\n",
    "y_pred_knn = knn.predict(X_test)\n",
    "print(classification_report(y_test, y_pred_knn))"
   ]
  },
  {
   "cell_type": "markdown",
   "id": "3141f91f",
   "metadata": {},
   "source": [
    "## CondensedNearestNeighbour"
   ]
  },
  {
   "cell_type": "code",
   "execution_count": 232,
   "id": "93cad0cb",
   "metadata": {},
   "outputs": [
    {
     "name": "stdout",
     "output_type": "stream",
     "text": [
      "Resampled dataset shape Counter({1: 80, 2: 28, 3: 19, 5: 10, 4: 9, 6: 8})\n"
     ]
    }
   ],
   "source": [
    "cnn = CondensedNearestNeighbour(random_state=42, n_jobs=-1, n_neighbors= 3)\n",
    "X_res_cnn, y_res_cnn = cnn.fit_resample(X_res,y_res)\n",
    "print('Resampled dataset shape %s' % Counter(y_res_cnn))"
   ]
  },
  {
   "cell_type": "code",
   "execution_count": 233,
   "id": "3123dcd0",
   "metadata": {
    "collapsed": true,
    "jupyter": {
     "outputs_hidden": true
    }
   },
   "outputs": [
    {
     "name": "stdout",
     "output_type": "stream",
     "text": [
      "Accuracy 0.43094672548354257\n",
      "F1-score [0.73193047 0.         0.74531422 0.         0.44425887 0.        ]\n",
      "              precision    recall  f1-score   support\n",
      "\n",
      "           1       0.67      0.81      0.73       496\n",
      "           2       0.00      0.00      0.00       471\n",
      "           3       0.69      0.80      0.75       420\n",
      "           4       0.00      0.00      0.00       491\n",
      "           5       0.29      1.00      0.44       532\n",
      "           6       0.00      0.00      0.00       537\n",
      "\n",
      "    accuracy                           0.43      2947\n",
      "   macro avg       0.27      0.44      0.32      2947\n",
      "weighted avg       0.26      0.43      0.31      2947\n",
      "\n"
     ]
    },
    {
     "name": "stderr",
     "output_type": "stream",
     "text": [
      "C:\\Users\\daddu\\anaconda3\\lib\\site-packages\\sklearn\\metrics\\_classification.py:1318: UndefinedMetricWarning: Precision and F-score are ill-defined and being set to 0.0 in labels with no predicted samples. Use `zero_division` parameter to control this behavior.\n",
      "  _warn_prf(average, modifier, msg_start, len(result))\n",
      "C:\\Users\\daddu\\anaconda3\\lib\\site-packages\\sklearn\\metrics\\_classification.py:1318: UndefinedMetricWarning: Precision and F-score are ill-defined and being set to 0.0 in labels with no predicted samples. Use `zero_division` parameter to control this behavior.\n",
      "  _warn_prf(average, modifier, msg_start, len(result))\n",
      "C:\\Users\\daddu\\anaconda3\\lib\\site-packages\\sklearn\\metrics\\_classification.py:1318: UndefinedMetricWarning: Precision and F-score are ill-defined and being set to 0.0 in labels with no predicted samples. Use `zero_division` parameter to control this behavior.\n",
      "  _warn_prf(average, modifier, msg_start, len(result))\n"
     ]
    }
   ],
   "source": [
    "clf_cnn = DecisionTreeClassifier(**dt_grid.best_params_)\n",
    "clf_cnn.fit(X_res_cnn, y_res_cnn)\n",
    "\n",
    "y_pred_cnn = clf_cnn.predict(X_test)\n",
    "\n",
    "print('Accuracy %s' % accuracy_score(y_test, y_pred_cnn))\n",
    "print('F1-score %s' % f1_score(y_test, y_pred_cnn, average=None))\n",
    "print(classification_report(y_test, y_pred_cnn))"
   ]
  },
  {
   "cell_type": "code",
   "execution_count": 234,
   "id": "54f50360",
   "metadata": {},
   "outputs": [
    {
     "data": {
      "image/png": "[encoded data removed]",
      "text/plain": [
       "<Figure size 432x288 with 1 Axes>"
      ]
     },
     "metadata": {
      "needs_background": "light"
     },
     "output_type": "display_data"
    }
   ],
   "source": [
    "pca = PCA(n_components=2)\n",
    "pca.fit(X_train)\n",
    "X_pca = pca.transform(X_res_cnn)\n",
    "\n",
    "plt.scatter(X_pca[:, 0], X_pca[:, 1], c=y_res_cnn, cmap=plt.cm.prism, edgecolor='k', alpha=0.7)\n",
    "plt.title(\"Condensed Nearest Neighbour PCA\")\n",
    "plt.ylabel(\"Second Component\", fontsize=10)\n",
    "plt.xlabel(\"First Component\", fontsize=10)\n",
    "plt.show()"
   ]
  },
  {
   "cell_type": "markdown",
   "id": "d7c62ec0",
   "metadata": {},
   "source": [
    "## SMOTE"
   ]
  },
  {
   "cell_type": "code",
   "execution_count": 57,
   "id": "2d7c64c9",
   "metadata": {},
   "outputs": [
    {
     "name": "stdout",
     "output_type": "stream",
     "text": [
      "Resampled dataset shape Counter({0: 4067, 1: 4067})\n"
     ]
    }
   ],
   "source": [
    "sm = SMOTE(random_state = 42)\n",
    "X_res_smote, y_res_smote = sm.fit_resample(X_res, y_res)\n",
    "print('Resampled dataset shape %s' % Counter(y_res_smote))"
   ]
  },
  {
   "cell_type": "code",
   "execution_count": 59,
   "id": "029ab5b6",
   "metadata": {},
   "outputs": [
    {
     "data": {
      "image/png": "[encoded data removed]",
      "text/plain": [
       "<Figure size 432x288 with 1 Axes>"
      ]
     },
     "metadata": {
      "needs_background": "light"
     },
     "output_type": "display_data"
    }
   ],
   "source": [
    "pca_smote = PCA(n_components=2)\n",
    "pca_smote.fit(X_train)\n",
    "X_pca_smote = pca_smote.transform(X_res_smote)\n",
    "\n",
    "plt.scatter(X_pca_smote[:, 0], X_pca_smote[:, 1], c=y_res_smote, cmap=plt.cm.prism, edgecolor='k', alpha=0.7)\n",
    "plt.show()"
   ]
  },
  {
   "cell_type": "code",
   "execution_count": 237,
   "id": "214bb690",
   "metadata": {},
   "outputs": [
    {
     "name": "stdout",
     "output_type": "stream",
     "text": [
      "Accuracy 0.7879199185612488\n",
      "F1-score [0.75882353 0.69276394 0.67837541 0.76938776 0.7879925  1.        ]\n",
      "              precision    recall  f1-score   support\n",
      "\n",
      "           1       0.74      0.78      0.76       496\n",
      "           2       0.78      0.62      0.69       471\n",
      "           3       0.63      0.74      0.68       420\n",
      "           4       0.77      0.77      0.77       491\n",
      "           5       0.79      0.79      0.79       532\n",
      "           6       1.00      1.00      1.00       537\n",
      "\n",
      "    accuracy                           0.79      2947\n",
      "   macro avg       0.79      0.78      0.78      2947\n",
      "weighted avg       0.79      0.79      0.79      2947\n",
      "\n"
     ]
    }
   ],
   "source": [
    "clf_smote = DecisionTreeClassifier(**dt_grid.best_params_)\n",
    "clf_smote.fit(X_res_smote, y_res_smote)\n",
    "\n",
    "y_pred_smote = clf_smote.predict(X_test)\n",
    "\n",
    "print('Accuracy %s' % accuracy_score(y_test, y_pred_smote))\n",
    "print('F1-score %s' % f1_score(y_test, y_pred_smote, average=None))\n",
    "print(classification_report(y_test, y_pred_smote))"
   ]
  },
  {
   "cell_type": "code",
   "execution_count": null,
   "id": "dec8fec4",
   "metadata": {},
   "outputs": [],
   "source": []
  }
 ],
 "metadata": {
  "kernelspec": {
   "display_name": "Python 3 (ipykernel)",
   "language": "python",
   "name": "python3"
  },
  "language_info": {
   "codemirror_mode": {
    "name": "ipython",
    "version": 3
   },
   "file_extension": ".py",
   "mimetype": "text/x-python",
   "name": "python",
   "nbconvert_exporter": "python",
   "pygments_lexer": "ipython3",
   "version": "3.9.13"
  }
 },
 "nbformat": 4,
 "nbformat_minor": 5
}
